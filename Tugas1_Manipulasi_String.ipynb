{
  "nbformat": 4,
  "nbformat_minor": 0,
  "metadata": {
    "colab": {
      "provenance": [],
      "include_colab_link": true
    },
    "kernelspec": {
      "name": "python3",
      "display_name": "Python 3"
    },
    "language_info": {
      "name": "python"
    }
  },
  "cells": [
    {
      "cell_type": "markdown",
      "metadata": {
        "id": "view-in-github",
        "colab_type": "text"
      },
      "source": [
        "<a href=\"https://colab.research.google.com/github/Irsyadkyy/manipulasi_string/blob/main/Tugas1_Manipulasi_String.ipynb\" target=\"_parent\"><img src=\"https://colab.research.google.com/assets/colab-badge.svg\" alt=\"Open In Colab\"/></a>"
      ]
    },
    {
      "cell_type": "code",
      "source": [
        "#desain class\n",
        "class Catatan:\n",
        "  def __init__(self, nama, nomor_absen, catatan):\n",
        "    self.nama = nama\n",
        "    self.nomor_absen = nomor_absen\n",
        "    self.catatan = catatan\n",
        "\n",
        "  def gabung(self):\n",
        "    nama = str(self.nama)\n",
        "    absen = str(self.nomor_absen)\n",
        "    catatan = str(self.catatan)\n",
        "\n",
        "    gabungan = (nama +' '+ absen +' '+ catatan)\n",
        "    return gabungan\n",
        "\n",
        "  def tampil(self):\n",
        "    print(self.gabung())\n",
        "\n",
        "  def cari(self):\n",
        "    print('SMKN9MALANG' in self.gabung())\n",
        "\n",
        "  def duplikasi(self):\n",
        "    print(self.gabung() * 3)\n",
        "\n",
        "  def jumlah(self):\n",
        "    print(len(self.gabung()))\n",
        "\n",
        "  def kataawal(self):\n",
        "    awal = 'Siswa'\n",
        "\n",
        "    print(self.gabung().startswith(awal))"
      ],
      "metadata": {
        "id": "osCpZrqaw3Wd"
      },
      "execution_count": 7,
      "outputs": []
    },
    {
      "cell_type": "code",
      "source": [
        "#main program\n",
        "siswa1 = Catatan(\"Siswa Irsyad\",18,\"saya sekolah di SMKN9MALANG\")\n",
        "siswa2 = Catatan(\"Harun\",20,\"saya sekolah di SMK9MALANG\")\n",
        "\n",
        "siswa1.gabung()\n",
        "siswa1.tampil()\n",
        "siswa1.cari()\n",
        "siswa1.duplikasi()\n",
        "siswa1.jumlah()\n",
        "siswa1.kataawal()\n",
        "print('')\n",
        "siswa2.gabung()\n",
        "siswa2.tampil()\n",
        "siswa2.cari()\n",
        "siswa2.duplikasi()\n",
        "siswa2.jumlah()\n",
        "siswa2.kataawal()"
      ],
      "metadata": {
        "id": "xESea6_eyjzI",
        "outputId": "f9cf9b45-6dfa-4998-a8a7-bd54031de0fa",
        "colab": {
          "base_uri": "https://localhost:8080/"
        }
      },
      "execution_count": 8,
      "outputs": [
        {
          "output_type": "stream",
          "name": "stdout",
          "text": [
            "Siswa Irsyad 18 saya sekolah di SMKN9MALANG\n",
            "True\n",
            "Siswa Irsyad 18 saya sekolah di SMKN9MALANGSiswa Irsyad 18 saya sekolah di SMKN9MALANGSiswa Irsyad 18 saya sekolah di SMKN9MALANG\n",
            "43\n",
            "True\n",
            "\n",
            "Harun 20 saya sekolah di SMK9MALANG\n",
            "False\n",
            "Harun 20 saya sekolah di SMK9MALANGHarun 20 saya sekolah di SMK9MALANGHarun 20 saya sekolah di SMK9MALANG\n",
            "35\n",
            "False\n"
          ]
        }
      ]
    }
  ]
}